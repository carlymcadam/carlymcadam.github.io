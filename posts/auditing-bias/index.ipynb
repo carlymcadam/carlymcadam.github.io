{
 "cells": [
  {
   "cell_type": "raw",
   "metadata": {},
   "source": [
    "---\n",
    "title: Auditing Bias\n",
    "author: Carly McAdam\n",
    "date: '2025-03-06'\n",
    "image: \"income_ineq.jpg\"\n",
    "description: \"Auditing for gender bias in income predictions\"\n",
    "format: html\n",
    "---"
   ]
  },
  {
   "cell_type": "markdown",
   "metadata": {},
   "source": [
    "### Abstract"
   ]
  },
  {
   "cell_type": "markdown",
   "metadata": {},
   "source": [
    "In this blog post we'll be looking at census data and trying to predict whether a person will have an income over $50,000. We will not use a persons' sex to predict their income. After training and implementing this algorithm, we will audit our model for gender bias. We will see that although the model doesn't appear to perform too differently across male and female groups, there are some differences in the model performance, which we will explore further and discuss.  "
   ]
  },
  {
   "cell_type": "code",
   "execution_count": 25,
   "metadata": {},
   "outputs": [],
   "source": [
    "#| include: false\n",
    "\n",
    "# Imports\n",
    "import warnings\n",
    "warnings.filterwarnings('ignore')\n",
    "import numpy as np\n",
    "import seaborn as sns\n",
    "from folktables import ACSDataSource, BasicProblem\n",
    "from sklearn.model_selection import train_test_split\n",
    "from sklearn.svm import LinearSVC\n",
    "from sklearn.pipeline import make_pipeline\n",
    "from sklearn.preprocessing import StandardScaler\n",
    "from sklearn.model_selection import GridSearchCV\n",
    "import matplotlib.pyplot as plt\n",
    "import pandas as pd\n",
    "from sklearn.metrics import accuracy_score, precision_score, confusion_matrix\n",
    "\n"
   ]
  },
  {
   "cell_type": "markdown",
   "metadata": {},
   "source": [
    "### Pulling and Prepping the Data"
   ]
  },
  {
   "cell_type": "code",
   "execution_count": 26,
   "metadata": {},
   "outputs": [
    {
     "data": {
      "text/html": [
       "<div>\n",
       "<style scoped>\n",
       "    .dataframe tbody tr th:only-of-type {\n",
       "        vertical-align: middle;\n",
       "    }\n",
       "\n",
       "    .dataframe tbody tr th {\n",
       "        vertical-align: top;\n",
       "    }\n",
       "\n",
       "    .dataframe thead th {\n",
       "        text-align: right;\n",
       "    }\n",
       "</style>\n",
       "<table border=\"1\" class=\"dataframe\">\n",
       "  <thead>\n",
       "    <tr style=\"text-align: right;\">\n",
       "      <th></th>\n",
       "      <th>PINCP</th>\n",
       "      <th>AGEP</th>\n",
       "      <th>SCHL</th>\n",
       "      <th>MAR</th>\n",
       "      <th>RELP</th>\n",
       "      <th>DIS</th>\n",
       "      <th>ESP</th>\n",
       "      <th>CIT</th>\n",
       "      <th>MIG</th>\n",
       "      <th>MIL</th>\n",
       "      <th>ANC</th>\n",
       "      <th>NATIVITY</th>\n",
       "      <th>DEAR</th>\n",
       "      <th>DEYE</th>\n",
       "      <th>DREM</th>\n",
       "      <th>SEX</th>\n",
       "      <th>RAC1P</th>\n",
       "      <th>ESR</th>\n",
       "    </tr>\n",
       "  </thead>\n",
       "  <tbody>\n",
       "    <tr>\n",
       "      <th>0</th>\n",
       "      <td>48500.0</td>\n",
       "      <td>30</td>\n",
       "      <td>14.0</td>\n",
       "      <td>1</td>\n",
       "      <td>16</td>\n",
       "      <td>2</td>\n",
       "      <td>NaN</td>\n",
       "      <td>1</td>\n",
       "      <td>3.0</td>\n",
       "      <td>4.0</td>\n",
       "      <td>1</td>\n",
       "      <td>1</td>\n",
       "      <td>2</td>\n",
       "      <td>2</td>\n",
       "      <td>2.0</td>\n",
       "      <td>1</td>\n",
       "      <td>8</td>\n",
       "      <td>6.0</td>\n",
       "    </tr>\n",
       "    <tr>\n",
       "      <th>1</th>\n",
       "      <td>0.0</td>\n",
       "      <td>18</td>\n",
       "      <td>14.0</td>\n",
       "      <td>5</td>\n",
       "      <td>17</td>\n",
       "      <td>2</td>\n",
       "      <td>NaN</td>\n",
       "      <td>1</td>\n",
       "      <td>1.0</td>\n",
       "      <td>4.0</td>\n",
       "      <td>1</td>\n",
       "      <td>1</td>\n",
       "      <td>2</td>\n",
       "      <td>2</td>\n",
       "      <td>2.0</td>\n",
       "      <td>2</td>\n",
       "      <td>1</td>\n",
       "      <td>6.0</td>\n",
       "    </tr>\n",
       "    <tr>\n",
       "      <th>2</th>\n",
       "      <td>13100.0</td>\n",
       "      <td>69</td>\n",
       "      <td>17.0</td>\n",
       "      <td>1</td>\n",
       "      <td>17</td>\n",
       "      <td>1</td>\n",
       "      <td>NaN</td>\n",
       "      <td>1</td>\n",
       "      <td>1.0</td>\n",
       "      <td>2.0</td>\n",
       "      <td>2</td>\n",
       "      <td>1</td>\n",
       "      <td>2</td>\n",
       "      <td>2</td>\n",
       "      <td>2.0</td>\n",
       "      <td>1</td>\n",
       "      <td>9</td>\n",
       "      <td>6.0</td>\n",
       "    </tr>\n",
       "    <tr>\n",
       "      <th>3</th>\n",
       "      <td>0.0</td>\n",
       "      <td>25</td>\n",
       "      <td>1.0</td>\n",
       "      <td>5</td>\n",
       "      <td>17</td>\n",
       "      <td>1</td>\n",
       "      <td>NaN</td>\n",
       "      <td>1</td>\n",
       "      <td>1.0</td>\n",
       "      <td>4.0</td>\n",
       "      <td>1</td>\n",
       "      <td>1</td>\n",
       "      <td>1</td>\n",
       "      <td>2</td>\n",
       "      <td>1.0</td>\n",
       "      <td>1</td>\n",
       "      <td>1</td>\n",
       "      <td>6.0</td>\n",
       "    </tr>\n",
       "    <tr>\n",
       "      <th>4</th>\n",
       "      <td>0.0</td>\n",
       "      <td>31</td>\n",
       "      <td>18.0</td>\n",
       "      <td>5</td>\n",
       "      <td>16</td>\n",
       "      <td>2</td>\n",
       "      <td>NaN</td>\n",
       "      <td>1</td>\n",
       "      <td>1.0</td>\n",
       "      <td>4.0</td>\n",
       "      <td>1</td>\n",
       "      <td>1</td>\n",
       "      <td>2</td>\n",
       "      <td>2</td>\n",
       "      <td>2.0</td>\n",
       "      <td>2</td>\n",
       "      <td>1</td>\n",
       "      <td>6.0</td>\n",
       "    </tr>\n",
       "  </tbody>\n",
       "</table>\n",
       "</div>"
      ],
      "text/plain": [
       "     PINCP  AGEP  SCHL  MAR  RELP  DIS  ESP  CIT  MIG  MIL  ANC  NATIVITY  \\\n",
       "0  48500.0    30  14.0    1    16    2  NaN    1  3.0  4.0    1         1   \n",
       "1      0.0    18  14.0    5    17    2  NaN    1  1.0  4.0    1         1   \n",
       "2  13100.0    69  17.0    1    17    1  NaN    1  1.0  2.0    2         1   \n",
       "3      0.0    25   1.0    5    17    1  NaN    1  1.0  4.0    1         1   \n",
       "4      0.0    31  18.0    5    16    2  NaN    1  1.0  4.0    1         1   \n",
       "\n",
       "   DEAR  DEYE  DREM  SEX  RAC1P  ESR  \n",
       "0     2     2   2.0    1      8  6.0  \n",
       "1     2     2   2.0    2      1  6.0  \n",
       "2     2     2   2.0    1      9  6.0  \n",
       "3     1     2   1.0    1      1  6.0  \n",
       "4     2     2   2.0    2      1  6.0  "
      ]
     },
     "execution_count": 26,
     "metadata": {},
     "output_type": "execute_result"
    }
   ],
   "source": [
    "# Read in the data\n",
    "\n",
    "STATE = \"CA\"\n",
    "\n",
    "data_source = ACSDataSource(survey_year='2018', \n",
    "                            horizon='1-Year', \n",
    "                            survey='person')\n",
    "\n",
    "acs_data = data_source.get_data(states=[STATE], download=True)\n",
    "acs_data=acs_data[['PINCP', 'AGEP', 'SCHL', 'MAR', 'RELP', 'DIS', 'ESP', 'CIT', 'MIG', 'MIL', 'ANC', 'NATIVITY', 'DEAR', 'DEYE', 'DREM', 'SEX', 'RAC1P', 'ESR']]\n",
    "\n",
    "acs_data.head()"
   ]
  },
  {
   "cell_type": "code",
   "execution_count": 27,
   "metadata": {},
   "outputs": [],
   "source": [
    "features_to_use = ['AGEP', 'SCHL', 'MAR', 'RELP']"
   ]
  },
  {
   "cell_type": "markdown",
   "metadata": {},
   "source": [
    "First, we're reading in the census data. We're also going to select some features that we're going to use for our mode. We'll be predicting income, so I chose some features that I think will be relevant -- age, education level, marriage status, and relationship to \"head of household\". Now, ‍‍‍‍‍‍‍‍‍‍‍‍‍‍‍‍‍‍‍‍we'll ‍‍‍‍‍‍‍‍‍‍‍‍‍‍‍‍‍‍‍‍construct ‍‍‍‍‍‍‍‍‍‍‍‍‍‍‍‍‍‍‍‍a ‍‍‍‍‍‍‍‍‍‍‍‍‍‍‍‍‍‍‍‍BasicProblem that expresses that we are going to use the features we specified above to predict if a person's income (\"PINCP\") is over $50,000.  "
   ]
  },
  {
   "cell_type": "code",
   "execution_count": 28,
   "metadata": {},
   "outputs": [],
   "source": [
    "IncomeProblem = BasicProblem(\n",
    "    features=features_to_use,\n",
    "    target='PINCP',\n",
    "    target_transform=lambda x: x > 50000,\n",
    "    group='SEX',\n",
    "    preprocess=lambda x: x,\n",
    "    postprocess=lambda x: np.nan_to_num(x, -1),\n",
    ")\n",
    "features, label, group = IncomeProblem.df_to_numpy(acs_data)"
   ]
  },
  {
   "cell_type": "markdown",
   "metadata": {},
   "source": [
    "### Basic Descriptives"
   ]
  },
  {
   "cell_type": "markdown",
   "metadata": {},
   "source": [
    "Before we get into creating our model, let's get to know our dataset so that we understand the demographics that we're working with. We'll split our dataset into train and test sets. "
   ]
  },
  {
   "cell_type": "code",
   "execution_count": 29,
   "metadata": {},
   "outputs": [],
   "source": [
    "X_train, X_test, y_train, y_test, group_train, group_test = train_test_split(\n",
    "    features, label, group, test_size=0.2, random_state=0)"
   ]
  },
  {
   "cell_type": "code",
   "execution_count": 30,
   "metadata": {},
   "outputs": [],
   "source": [
    "#| echo: false\n",
    "df = pd.DataFrame(X_train, columns = features_to_use)\n",
    "df[\"group\"] = group_train\n",
    "df[\"label\"] = y_train"
   ]
  },
  {
   "cell_type": "markdown",
   "metadata": {},
   "source": [
    "This is what our dataset looks like. It has all of the features that we're going to use to train our model, and it has a \"group\" column where 1 represents a male and 2 represents a female. The \"label\" column, which we will isolate as our target variable, is a boolean (true for a person with income > $50,000, false otherwise). "
   ]
  },
  {
   "cell_type": "code",
   "execution_count": 31,
   "metadata": {},
   "outputs": [
    {
     "data": {
      "text/html": [
       "<div>\n",
       "<style scoped>\n",
       "    .dataframe tbody tr th:only-of-type {\n",
       "        vertical-align: middle;\n",
       "    }\n",
       "\n",
       "    .dataframe tbody tr th {\n",
       "        vertical-align: top;\n",
       "    }\n",
       "\n",
       "    .dataframe thead th {\n",
       "        text-align: right;\n",
       "    }\n",
       "</style>\n",
       "<table border=\"1\" class=\"dataframe\">\n",
       "  <thead>\n",
       "    <tr style=\"text-align: right;\">\n",
       "      <th></th>\n",
       "      <th>AGEP</th>\n",
       "      <th>SCHL</th>\n",
       "      <th>MAR</th>\n",
       "      <th>RELP</th>\n",
       "      <th>group</th>\n",
       "      <th>label</th>\n",
       "    </tr>\n",
       "  </thead>\n",
       "  <tbody>\n",
       "    <tr>\n",
       "      <th>0</th>\n",
       "      <td>77.0</td>\n",
       "      <td>16.0</td>\n",
       "      <td>2.0</td>\n",
       "      <td>0.0</td>\n",
       "      <td>2</td>\n",
       "      <td>True</td>\n",
       "    </tr>\n",
       "    <tr>\n",
       "      <th>1</th>\n",
       "      <td>29.0</td>\n",
       "      <td>20.0</td>\n",
       "      <td>5.0</td>\n",
       "      <td>2.0</td>\n",
       "      <td>1</td>\n",
       "      <td>False</td>\n",
       "    </tr>\n",
       "    <tr>\n",
       "      <th>2</th>\n",
       "      <td>60.0</td>\n",
       "      <td>21.0</td>\n",
       "      <td>1.0</td>\n",
       "      <td>0.0</td>\n",
       "      <td>2</td>\n",
       "      <td>False</td>\n",
       "    </tr>\n",
       "    <tr>\n",
       "      <th>3</th>\n",
       "      <td>27.0</td>\n",
       "      <td>19.0</td>\n",
       "      <td>5.0</td>\n",
       "      <td>13.0</td>\n",
       "      <td>2</td>\n",
       "      <td>False</td>\n",
       "    </tr>\n",
       "    <tr>\n",
       "      <th>4</th>\n",
       "      <td>63.0</td>\n",
       "      <td>23.0</td>\n",
       "      <td>3.0</td>\n",
       "      <td>0.0</td>\n",
       "      <td>1</td>\n",
       "      <td>True</td>\n",
       "    </tr>\n",
       "  </tbody>\n",
       "</table>\n",
       "</div>"
      ],
      "text/plain": [
       "   AGEP  SCHL  MAR  RELP  group  label\n",
       "0  77.0  16.0  2.0   0.0      2   True\n",
       "1  29.0  20.0  5.0   2.0      1  False\n",
       "2  60.0  21.0  1.0   0.0      2  False\n",
       "3  27.0  19.0  5.0  13.0      2  False\n",
       "4  63.0  23.0  3.0   0.0      1   True"
      ]
     },
     "execution_count": 31,
     "metadata": {},
     "output_type": "execute_result"
    }
   ],
   "source": [
    "#| echo: false\n",
    "df.head()"
   ]
  },
  {
   "cell_type": "markdown",
   "metadata": {},
   "source": [
    "Now, let's get some information about the data: "
   ]
  },
  {
   "cell_type": "code",
   "execution_count": 32,
   "metadata": {},
   "outputs": [
    {
     "name": "stdout",
     "output_type": "stream",
     "text": [
      "Number of individuals in the training set: 303053\n"
     ]
    }
   ],
   "source": [
    "#| echo: false\n",
    "print(\"Number of individuals in the training set:\", len(df))"
   ]
  },
  {
   "cell_type": "code",
   "execution_count": 36,
   "metadata": {},
   "outputs": [
    {
     "name": "stdout",
     "output_type": "stream",
     "text": [
      "Number of individuals in the training set with income over $50,000: 73963\n"
     ]
    }
   ],
   "source": [
    "#| echo: false\n",
    "print(\"Number of individuals in the training set with income over $50,000:\",df[\"label\"].sum())"
   ]
  },
  {
   "cell_type": "code",
   "execution_count": 35,
   "metadata": {},
   "outputs": [
    {
     "name": "stdout",
     "output_type": "stream",
     "text": [
      "Number of males in the training set: 149294\n",
      "Number of females in the training set: 153759\n"
     ]
    }
   ],
   "source": [
    "#| echo: false\n",
    "\n",
    "print(\"Number of males in the training set:\", len(df[df[\"group\"] == 1]))\n",
    "print(\"Number of females in the training set:\", len(df[df[\"group\"] == 2]))"
   ]
  },
  {
   "cell_type": "code",
   "execution_count": 37,
   "metadata": {},
   "outputs": [
    {
     "name": "stdout",
     "output_type": "stream",
     "text": [
      "Male proportion w/ income over $50,000: 0.3\n",
      "Female proportion w/ income over $50,000: 0.19\n"
     ]
    }
   ],
   "source": [
    "#| echo: false\n",
    "\n",
    "print(\"Male proportion w/ income over $50,000:\", \n",
    "      round(len(df[(df[\"group\"] == 1) & (df[\"label\"] == True)]) / len(df[df[\"group\"] == 1]), 2))\n",
    "print(\"Female proportion w/ income over $50,000:\", \n",
    "      round(len(df[(df[\"group\"] == 2) & (df[\"label\"] == True)]) / len(df[df[\"group\"] == 2]), 2))\n"
   ]
  },
  {
   "cell_type": "markdown",
   "metadata": {},
   "source": [
    "We can see that there are more females than males in the training set, although not by much. It's almost evenly split. There are also about 10% more males than females have an income of over $50,000. It's important to understand the breakdown in our dataset because if we're looking for a model to perform well for both groups, we want there to be enough data in the training set for each group. We also want to be sure that we have people from each group with income above and below the threshold, so that the model can learn patterns about people in each group with each label. Now, let's look at intersectional trends in the data by breaking out the income groups by sex and education level. "
   ]
  },
  {
   "cell_type": "code",
   "execution_count": 12,
   "metadata": {},
   "outputs": [
    {
     "data": {
      "image/png": "[encoded data removed]",
      "text/plain": [
       "<Figure size 1200x600 with 1 Axes>"
      ]
     },
     "metadata": {},
     "output_type": "display_data"
    }
   ],
   "source": [
    "#| code-fold: true \n",
    "#| code-summary: \"Plotting code\"\n",
    "# Compute proportions of positive labels by both SEX and SCHL\n",
    "intersectional_counts = df.groupby([\"group\", \"SCHL\"])[\"label\"].mean().reset_index()\n",
    "\n",
    "# Rename columns for clarity\n",
    "intersectional_counts.columns = [\"Sex\", \"Education Level\", \"Proportion with Positive Label\"]\n",
    "\n",
    "# Create a bar plot\n",
    "plt.figure(figsize=(12, 6))\n",
    "sns.barplot(\n",
    "    data=intersectional_counts, \n",
    "    x=\"Education Level\", \n",
    "    y=\"Proportion with Positive Label\", \n",
    "    hue=\"Sex\"\n",
    ")\n",
    "\n",
    "# Labels and title\n",
    "plt.xlabel(\"Education Level (SCHL)\")\n",
    "plt.ylabel(\"Proportion with Positive Label (e.g., Income > $50k)\")\n",
    "plt.title(\"Proportion of Positive Labels by Sex and Education Level\")\n",
    "plt.legend(title=\"Sex\")\n",
    "\n",
    "# Rotate x-axis labels for better readability\n",
    "plt.xticks(rotation=45)\n",
    "\n",
    "# Show plot\n",
    "plt.show()\n"
   ]
  },
  {
   "cell_type": "markdown",
   "metadata": {},
   "source": [
    "Here, we can see that across all education levels, men are more likely to have an income over $50,000 than women are. We can also see that this gap seems to be exacerbated at lower education levels. There is a bigger gap between the proportion of men and proportion of women with income over $50,000 at 15-19 years of education than at the higher education levels of 21-24 years. This is an important example of intersectional trends, because we can see that the income disparity between men and women varies depending on education level. "
   ]
  },
  {
   "cell_type": "markdown",
   "metadata": {},
   "source": [
    "### Training the Model"
   ]
  },
  {
   "cell_type": "markdown",
   "metadata": {},
   "source": [
    "Now that we understand our dataset, we'll train a support vector machine model to predict if an individual's income is over $50,000. An SVM model aims to find an optimal hyperplane in an N-dimensional space to separate data points into different classes. It is similar to a linear classification model, but it can be in multiple dimensions. The SVM algorithm maximizes the margin between the closest points of different classes. One of the parameters in an SVM model is the regularization term \"C\", which is used to balance the misclassification penalties with maximization. If the value of \"C\" is higher, the model more strictly penalizes misclassifications. Before training our model, we will use cross-validation to find an optimal value of this \"C\" parameter. "
   ]
  },
  {
   "cell_type": "code",
   "execution_count": 14,
   "metadata": {},
   "outputs": [
    {
     "name": "stdout",
     "output_type": "stream",
     "text": [
      "Best C: 0.001\n"
     ]
    }
   ],
   "source": [
    "#| code-fold: true \n",
    "#| code-summary: \"Cross-val code\"\n",
    "\n",
    "model = make_pipeline(StandardScaler(), LinearSVC(dual=False))\n",
    "model.fit(X_train, y_train)\n",
    "\n",
    "# Define the pipeline\n",
    "pipeline = make_pipeline(StandardScaler(), LinearSVC(dual=False, max_iter=5000))\n",
    "\n",
    "# Define the hyperparameter grid for C\n",
    "param_grid = {'linearsvc__C': [0.001, 0.01, 0.1, 1, 10, 100]}\n",
    "\n",
    "# Perform Grid Search with Cross-Validation\n",
    "grid_search = GridSearchCV(pipeline, param_grid, cv=5, scoring='accuracy', n_jobs=-1)\n",
    "grid_search.fit(X_train, y_train)\n",
    "\n",
    "# Get the best C value\n",
    "best_C = grid_search.best_params_['linearsvc__C']\n",
    "print(f\"Best C: {best_C}\")\n",
    "\n",
    "# Best model with optimal C\n",
    "best_model = grid_search.best_estimator_"
   ]
  },
  {
   "cell_type": "markdown",
   "metadata": {},
   "source": [
    "Based on our cross-validation, the value of \"C\" that we should use is 0.001. Now, we'll create and train our model using a pipeline. The pipeline is used to sequentially apply transformations -- here, we are using StandardScaler() to standardize all of the features in the dataset. "
   ]
  },
  {
   "cell_type": "code",
   "execution_count": 15,
   "metadata": {},
   "outputs": [
    {
     "data": {
      "text/html": [
       "<style>#sk-container-id-1 {color: black;}#sk-container-id-1 pre{padding: 0;}#sk-container-id-1 div.sk-toggleable {background-color: white;}#sk-container-id-1 label.sk-toggleable__label {cursor: pointer;display: block;width: 100%;margin-bottom: 0;padding: 0.3em;box-sizing: border-box;text-align: center;}#sk-container-id-1 label.sk-toggleable__label-arrow:before {content: \"▸\";float: left;margin-right: 0.25em;color: #696969;}#sk-container-id-1 label.sk-toggleable__label-arrow:hover:before {color: black;}#sk-container-id-1 div.sk-estimator:hover label.sk-toggleable__label-arrow:before {color: black;}#sk-container-id-1 div.sk-toggleable__content {max-height: 0;max-width: 0;overflow: hidden;text-align: left;background-color: #f0f8ff;}#sk-container-id-1 div.sk-toggleable__content pre {margin: 0.2em;color: black;border-radius: 0.25em;background-color: #f0f8ff;}#sk-container-id-1 input.sk-toggleable__control:checked~div.sk-toggleable__content {max-height: 200px;max-width: 100%;overflow: auto;}#sk-container-id-1 input.sk-toggleable__control:checked~label.sk-toggleable__label-arrow:before {content: \"▾\";}#sk-container-id-1 div.sk-estimator input.sk-toggleable__control:checked~label.sk-toggleable__label {background-color: #d4ebff;}#sk-container-id-1 div.sk-label input.sk-toggleable__control:checked~label.sk-toggleable__label {background-color: #d4ebff;}#sk-container-id-1 input.sk-hidden--visually {border: 0;clip: rect(1px 1px 1px 1px);clip: rect(1px, 1px, 1px, 1px);height: 1px;margin: -1px;overflow: hidden;padding: 0;position: absolute;width: 1px;}#sk-container-id-1 div.sk-estimator {font-family: monospace;background-color: #f0f8ff;border: 1px dotted black;border-radius: 0.25em;box-sizing: border-box;margin-bottom: 0.5em;}#sk-container-id-1 div.sk-estimator:hover {background-color: #d4ebff;}#sk-container-id-1 div.sk-parallel-item::after {content: \"\";width: 100%;border-bottom: 1px solid gray;flex-grow: 1;}#sk-container-id-1 div.sk-label:hover label.sk-toggleable__label {background-color: #d4ebff;}#sk-container-id-1 div.sk-serial::before {content: \"\";position: absolute;border-left: 1px solid gray;box-sizing: border-box;top: 0;bottom: 0;left: 50%;z-index: 0;}#sk-container-id-1 div.sk-serial {display: flex;flex-direction: column;align-items: center;background-color: white;padding-right: 0.2em;padding-left: 0.2em;position: relative;}#sk-container-id-1 div.sk-item {position: relative;z-index: 1;}#sk-container-id-1 div.sk-parallel {display: flex;align-items: stretch;justify-content: center;background-color: white;position: relative;}#sk-container-id-1 div.sk-item::before, #sk-container-id-1 div.sk-parallel-item::before {content: \"\";position: absolute;border-left: 1px solid gray;box-sizing: border-box;top: 0;bottom: 0;left: 50%;z-index: -1;}#sk-container-id-1 div.sk-parallel-item {display: flex;flex-direction: column;z-index: 1;position: relative;background-color: white;}#sk-container-id-1 div.sk-parallel-item:first-child::after {align-self: flex-end;width: 50%;}#sk-container-id-1 div.sk-parallel-item:last-child::after {align-self: flex-start;width: 50%;}#sk-container-id-1 div.sk-parallel-item:only-child::after {width: 0;}#sk-container-id-1 div.sk-dashed-wrapped {border: 1px dashed gray;margin: 0 0.4em 0.5em 0.4em;box-sizing: border-box;padding-bottom: 0.4em;background-color: white;}#sk-container-id-1 div.sk-label label {font-family: monospace;font-weight: bold;display: inline-block;line-height: 1.2em;}#sk-container-id-1 div.sk-label-container {text-align: center;}#sk-container-id-1 div.sk-container {/* jupyter's `normalize.less` sets `[hidden] { display: none; }` but bootstrap.min.css set `[hidden] { display: none !important; }` so we also need the `!important` here to be able to override the default hidden behavior on the sphinx rendered scikit-learn.org. See: https://github.com/scikit-learn/scikit-learn/issues/21755 */display: inline-block !important;position: relative;}#sk-container-id-1 div.sk-text-repr-fallback {display: none;}</style><div id=\"sk-container-id-1\" class=\"sk-top-container\"><div class=\"sk-text-repr-fallback\"><pre>Pipeline(steps=[(&#x27;standardscaler&#x27;, StandardScaler()),\n",
       "                (&#x27;linearsvc&#x27;, LinearSVC(C=0.001, dual=False))])</pre><b>In a Jupyter environment, please rerun this cell to show the HTML representation or trust the notebook. <br />On GitHub, the HTML representation is unable to render, please try loading this page with nbviewer.org.</b></div><div class=\"sk-container\" hidden><div class=\"sk-item sk-dashed-wrapped\"><div class=\"sk-label-container\"><div class=\"sk-label sk-toggleable\"><input class=\"sk-toggleable__control sk-hidden--visually\" id=\"sk-estimator-id-1\" type=\"checkbox\" ><label for=\"sk-estimator-id-1\" class=\"sk-toggleable__label sk-toggleable__label-arrow\">Pipeline</label><div class=\"sk-toggleable__content\"><pre>Pipeline(steps=[(&#x27;standardscaler&#x27;, StandardScaler()),\n",
       "                (&#x27;linearsvc&#x27;, LinearSVC(C=0.001, dual=False))])</pre></div></div></div><div class=\"sk-serial\"><div class=\"sk-item\"><div class=\"sk-estimator sk-toggleable\"><input class=\"sk-toggleable__control sk-hidden--visually\" id=\"sk-estimator-id-2\" type=\"checkbox\" ><label for=\"sk-estimator-id-2\" class=\"sk-toggleable__label sk-toggleable__label-arrow\">StandardScaler</label><div class=\"sk-toggleable__content\"><pre>StandardScaler()</pre></div></div></div><div class=\"sk-item\"><div class=\"sk-estimator sk-toggleable\"><input class=\"sk-toggleable__control sk-hidden--visually\" id=\"sk-estimator-id-3\" type=\"checkbox\" ><label for=\"sk-estimator-id-3\" class=\"sk-toggleable__label sk-toggleable__label-arrow\">LinearSVC</label><div class=\"sk-toggleable__content\"><pre>LinearSVC(C=0.001, dual=False)</pre></div></div></div></div></div></div></div>"
      ],
      "text/plain": [
       "Pipeline(steps=[('standardscaler', StandardScaler()),\n",
       "                ('linearsvc', LinearSVC(C=0.001, dual=False))])"
      ]
     },
     "execution_count": 15,
     "metadata": {},
     "output_type": "execute_result"
    }
   ],
   "source": [
    "model = make_pipeline(StandardScaler(), LinearSVC(C=0.001, dual=False))\n",
    "model.fit(X_train, y_train)"
   ]
  },
  {
   "cell_type": "markdown",
   "metadata": {},
   "source": [
    "Now, that we've fit our model, we're going to test it on the test set and then audit the model for gender bias. Recall that we didn't include sex as one of the features in our model, so we're interested to see if the model we trained on other features might be implicitly biased by sex. "
   ]
  },
  {
   "cell_type": "markdown",
   "metadata": {},
   "source": [
    "### Auditing the Model"
   ]
  },
  {
   "cell_type": "code",
   "execution_count": 16,
   "metadata": {},
   "outputs": [],
   "source": [
    "y_hat = model.predict(X_test)"
   ]
  },
  {
   "cell_type": "code",
   "execution_count": 38,
   "metadata": {},
   "outputs": [
    {
     "name": "stdout",
     "output_type": "stream",
     "text": [
      "Overall accuracy: 0.8\n"
     ]
    }
   ],
   "source": [
    "#| echo: false\n",
    "print(\"Overall accuracy:\", round((y_hat == y_test).mean(),2))"
   ]
  },
  {
   "cell_type": "code",
   "execution_count": 39,
   "metadata": {},
   "outputs": [
    {
     "name": "stdout",
     "output_type": "stream",
     "text": [
      "Accuracy for men: 0.79\n"
     ]
    }
   ],
   "source": [
    "#| echo: false\n",
    "print(\"Accuracy for men:\", round((y_hat == y_test)[group_test == 1].mean(),2))"
   ]
  },
  {
   "cell_type": "code",
   "execution_count": 41,
   "metadata": {},
   "outputs": [
    {
     "name": "stdout",
     "output_type": "stream",
     "text": [
      "Accuracy for women: 0.81\n"
     ]
    }
   ],
   "source": [
    "#| echo: false\n",
    "print(\"Accuracy for women:\", round((y_hat == y_test)[group_test == 2].mean(),2))"
   ]
  },
  {
   "cell_type": "markdown",
   "metadata": {},
   "source": [
    "At first glance, we can see that our model is slightly more accurate for women, but it performs fairly similarly across each group when looking at accurate. But, let's get more precise to understand more about the differences in accuracy between groups. We'll get the accuracy using the accuracy score function, the PPV using the precision score function, and the true positive, true negative, false negative, and false positive rates from the confusion matrix. We'll get all of these metrics for the whole test set, as well as the test set filtered for the female and male groups. We will put all of these metrics into a dictionary for easy access when we plot these results next. "
   ]
  },
  {
   "cell_type": "code",
   "execution_count": 21,
   "metadata": {},
   "outputs": [
    {
     "name": "stdout",
     "output_type": "stream",
     "text": [
      "\n",
      "--- Overall Model Performance ---\n",
      "Overall Accuracy: 0.80\n",
      "Overall PPV: 0.63\n",
      "Overall False Positive Rate (FPR): 0.08\n",
      "Overall False Negative Rate (FNR): 0.56\n",
      "\n",
      "--- Subgroup Model Performance ---\n",
      "\n",
      "Group: Male\n",
      "  Accuracy: 0.79\n",
      "  PPV: 0.75\n",
      "  False Positive Rate (FPR): 0.06\n",
      "  False Negative Rate (FNR): 0.56\n",
      "\n",
      "Group: Female\n",
      "  Accuracy: 0.81\n",
      "  PPV: 0.50\n",
      "  False Positive Rate (FPR): 0.10\n",
      "  False Negative Rate (FNR): 0.57\n",
      "\n",
      "--- Bias Metrics ---\n",
      "Calibration Difference: 0.01\n",
      "Error Rate Balance: 0.05\n",
      "Statistical Parity Difference: 0.01\n"
     ]
    }
   ],
   "source": [
    "#| code-fold: true\n",
    "#| code-summary: \"Code to calculate accuracy and error rates\"\n",
    "\n",
    "# Make predictions\n",
    "y_pred = best_model.predict(X_test)\n",
    "\n",
    "### Overall Measures ###\n",
    "# Compute overall accuracy\n",
    "overall_accuracy = accuracy_score(y_test, y_pred)\n",
    "\n",
    "# Compute overall PPV (Positive Predictive Value / Precision)\n",
    "overall_ppv = precision_score(y_test, y_pred)\n",
    "\n",
    "# Compute overall confusion matrix\n",
    "tn, fp, fn, tp = confusion_matrix(y_test, y_pred).ravel()\n",
    "\n",
    "# Compute overall False Positive Rate (FPR) and False Negative Rate (FNR)\n",
    "overall_fpr = fp / (fp + tn)\n",
    "overall_fnr = fn / (fn + tp)\n",
    "\n",
    "# Print overall metrics\n",
    "print(\"\\n--- Overall Model Performance ---\")\n",
    "print(f\"Overall Accuracy: {overall_accuracy:.2f}\")\n",
    "print(f\"Overall PPV: {overall_ppv:.2f}\")\n",
    "print(f\"Overall False Positive Rate (FPR): {overall_fpr:.2f}\")\n",
    "print(f\"Overall False Negative Rate (FNR): {overall_fnr:.2f}\")\n",
    "\n",
    "### By-Group Measures ###\n",
    "print(\"\\n--- Subgroup Model Performance ---\")\n",
    "subgroup_results = []\n",
    "\n",
    "for sex in [1, 2]:  # 1 = Male, 2 = Female\n",
    "    mask = (group_test == sex)\n",
    "    \n",
    "    # Compute subgroup accuracy\n",
    "    subgroup_accuracy = accuracy_score(y_test[mask], y_pred[mask])\n",
    "    \n",
    "    # Compute subgroup PPV\n",
    "    subgroup_ppv = precision_score(y_test[mask], y_pred[mask])\n",
    "    \n",
    "    # Compute subgroup confusion matrix\n",
    "    tn_s, fp_s, fn_s, tp_s = confusion_matrix(y_test[mask], y_pred[mask]).ravel()\n",
    "\n",
    "    # Compute subgroup FPR and FNR\n",
    "    subgroup_fpr = fp_s / (fp_s + tn_s)\n",
    "    subgroup_fnr = fn_s / (fn_s + tp_s)\n",
    "    \n",
    "    group_name = \"Male\" if sex == 1 else \"Female\"\n",
    "    print(f\"\\nGroup: {group_name}\")\n",
    "    print(f\"  Accuracy: {subgroup_accuracy:.2f}\")\n",
    "    print(f\"  PPV: {subgroup_ppv:.2f}\")\n",
    "    print(f\"  False Positive Rate (FPR): {subgroup_fpr:.2f}\")\n",
    "    print(f\"  False Negative Rate (FNR): {subgroup_fnr:.2f}\")\n",
    "\n",
    "    subgroup_results.append({\n",
    "        \"Sex\": group_name,\n",
    "        \"Accuracy\": subgroup_accuracy,\n",
    "        \"PPV\": subgroup_ppv,\n",
    "        \"FPR\": subgroup_fpr,\n",
    "        \"FNR\": subgroup_fnr\n",
    "    })\n",
    "\n",
    "### Bias Measures ###\n",
    "# Calibration: The model is considered calibrated if P(Y=1 | S=1) ≈ P(Y=1 | S=2)\n",
    "calibration_diff = abs(y_pred[group_test == 1].mean() - y_pred[group_test == 2].mean())\n",
    "\n",
    "# Error Rate Balance: FNR and FPR should be similar across groups\n",
    "error_rate_balance = abs(subgroup_results[0][\"FNR\"] - subgroup_results[1][\"FNR\"]) + \\\n",
    "                     abs(subgroup_results[0][\"FPR\"] - subgroup_results[1][\"FPR\"])\n",
    "\n",
    "# Statistical Parity: P(Y=1 | S=1) ≈ P(Y=1 | S=2)\n",
    "statistical_parity_diff = abs(np.mean(y_pred[group_test == 1]) - np.mean(y_pred[group_test == 2]))\n",
    "\n",
    "# Print Bias Metrics\n",
    "print(\"\\n--- Bias Metrics ---\")\n",
    "print(f\"Calibration Difference: {calibration_diff:.2f}\")\n",
    "print(f\"Error Rate Balance: {error_rate_balance:.2f}\")\n",
    "print(f\"Statistical Parity Difference: {statistical_parity_diff:.2f}\")\n"
   ]
  },
  {
   "cell_type": "markdown",
   "metadata": {},
   "source": [
    "These results tell us more information about the difference in model performance between the two groups. We can see that the male group has a lower false positive rate (FPR) than the female group, that is, our model is less likely to incorrectly predict that a man has income over $50,000 when he actually does not. The false negative rate (FNR) is very similar across groups, so we are pretty much equally likely to predict that a male or female does not have income over $50,000 when they actually do. The male group has a higher PPV value than the female group, which we'll explore further in the plot below. We will reproduce a plot from the COMPAS paper that compares the FPR and FNR rates across groups and plots potential combinations of FPR/FNR rates for each group. The plot also looks at the potential combinations of FPR/FNR rates for the female group if we fix the PPV rate for the female group to the larger PPV value of the male group. "
   ]
  },
  {
   "cell_type": "code",
   "execution_count": 23,
   "metadata": {},
   "outputs": [
    {
     "data": {
      "image/png": "[encoded data removed]",
      "text/plain": [
       "<Figure size 1000x600 with 1 Axes>"
      ]
     },
     "metadata": {},
     "output_type": "display_data"
    }
   ],
   "source": [
    "#| code-fold: true\n",
    "#| code-summary: \"Code to reproduce plot from COMPAS paper\"\n",
    "\n",
    "# Extract values for male and female\n",
    "p_male = np.mean(y_test[group_test == 1])  # Prevalence of male\n",
    "p_female = np.mean(y_test[group_test == 2])  # Prevalence of female\n",
    "\n",
    "PPV_female = subgroup_results[1][\"PPV\"] # Observed PPV for females\n",
    "PPV_male_fixed = PPV_female # Set PPV_male to PPV_female\n",
    "\n",
    "# Extract FNR and FPR values for observed points\n",
    "fnr_values = [subgroup_results[0][\"FNR\"], subgroup_results[1][\"FNR\"]]\n",
    "fpr_values = [subgroup_results[0][\"FPR\"], subgroup_results[1][\"FPR\"]]\n",
    "labels = [subgroup_results[0][\"Sex\"], subgroup_results[1][\"Sex\"]]\n",
    "\n",
    "# Generate range of FNR values from 0 to 1\n",
    "fnr_range = np.linspace(0, 1, 100)\n",
    "\n",
    "# Compute feasible FPR values for males\n",
    "fpr_feasible_male = ((1 - fnr_range) * p_male * (1 - PPV_male_fixed)) / (PPV_male_fixed * (1 - p_male))\n",
    "\n",
    "# Compute feasible FPR values for females when PPV_female = PPV_male\n",
    "fpr_feasible_female = ((1 - fnr_range) * p_female * (1 - PPV_female)) / (PPV_female * (1 - p_female))\n",
    "\n",
    "# Define range of delta values for shading\n",
    "delta_values = [0.05, 0.1, 0.15]  # Smaller delta -> smaller feasible region\n",
    "\n",
    "plt.figure(figsize=(10, 6))\n",
    "\n",
    "# Scatter plot of observed values\n",
    "sns.scatterplot(x=fnr_values, y=fpr_values, hue=labels, palette=[\"lightblue\", \"lightpink\"], s=100)\n",
    "\n",
    "# Plot feasible set for males\n",
    "plt.plot(fnr_range, fpr_feasible_male, color=\"lightblue\", label=\"Feasible Set (Male)\")\n",
    "\n",
    "# Plot feasible set for females when PPV_female = PPV_male\n",
    "plt.plot(fnr_range, fpr_feasible_female, color=\"lightpink\", label=\"Feasible Set (Female, PPV=PPV_male)\")\n",
    "\n",
    "# Add nested shaded regions for varying PPV_female constraints\n",
    "for i, delta in enumerate(delta_values):\n",
    "    # PPV_female_upper = PPV_male + delta\n",
    "    # PPV_female_lower = PPV_male - delta\n",
    "    \n",
    "    PPV_male_upper = PPV_female + delta\n",
    "    PPV_male_lower = PPV_female - delta\n",
    "\n",
    "\n",
    "    # Compute feasible FPR values for upper and lower PPV bounds\n",
    "    fpr_feasible_upper = ((1 - fnr_range) * p_male * (1 - PPV_male_upper)) / (PPV_male_upper * (1 - p_male))\n",
    "    fpr_feasible_lower = ((1 - fnr_range) * p_male * (1 - PPV_male_lower)) / (PPV_male_lower * (1 - p_male))\n",
    "\n",
    "    # Fill region between upper and lower bounds\n",
    "    plt.fill_between(fnr_range, fpr_feasible_lower, fpr_feasible_upper, color=\"lightgrey\", alpha=0.3)\n",
    "\n",
    "# Labels and title\n",
    "plt.xlabel(\"False Negative Rate (FNR)\")\n",
    "plt.ylabel(\"False Positive Rate (FPR)\")\n",
    "plt.title(\"Feasible (FNR, FPR) combinations\")\n",
    "\n",
    "# Show plot\n",
    "plt.show()"
   ]
  },
  {
   "cell_type": "markdown",
   "metadata": {},
   "source": [
    "This chart is a reproduction of the Chouldechova paper that we discussed in class. We fixed ‍‍‍‍‍‍‍‍‍‍‍‍‍‍‍‍‍‍‍‍the proportion of true positive labels  for eac‍‍‍‍‍‍‍‍‍‍‍‍‍h group, and we set the PPV values to be equal across both groups. The pink and blue points show the observed FPR and FNR rates for the male and female groups. The lines represent the possible combinations of FPR and FNR for each group, with the PPV for the male group fixed at the lower PPV that we observed for the female group. Given this, we can see that if we wanted the male FPR to be the same as the female FPR, we would need to increase the false negative rate around 35% so that the blue point would shift right onto the blue line. This tells us that we would need to make the model for males much less accurate than it is now to make the models \"equal\" in their FPR. "
   ]
  },
  {
   "cell_type": "markdown",
   "metadata": {},
   "source": [
    "### Concluding Discussion"
   ]
  },
  {
   "cell_type": "markdown",
   "metadata": {},
   "source": [
    "Ultimately, this model didn't exhibit that much bias. Even though the male group had a higher PPV, the accuracy, FPRs, and FNRs were similar across the two groups. There are many people that might be interested in this model, like people doing credit risk assessment, recruiters and employers, or banks. These institutions would all have an interest in predicting how much income an individual might make. At a large scale, this model might be slightly more accurate for predicting male income. This could potentially have a negative impact on females because they might be more likely to be denied credit or a job if their income is predicted to be lower than it actually is. This could lead to biased employment practices, unfair denial of services, or housing discrimination. On the positive side, this model could have the impact of streamlining financial services and job-matching or aiding governments in economic research and policy planning with access to income data. I didn't feel that this model displays ‍‍‍‍‍‍‍‍‍‍‍‍‍‍‍‍‍‍‍‍problematic ‍‍‍‍‍‍‍‍‍‍‍‍‍‍‍‍‍‍‍bias. The error rates were very similar across groups, but I could see the potential for a model like this to be biased against women, given the systemic wage gap and sexism inherent in our society. Some of the other problems ‍‍‍‍‍‍‍‍‍‍‍‍‍‍‍‍‍‍‍‍associated with deploying this model, like privacy issues and regulatory compliance. To mitigate these potential impacts, it would be useful to conduct bias audits at a large scale, like the one we did here. It could also be important to ensure that humans, instead of the algorithm, end up having the final say about decisions that might be impacted by the model results. "
   ]
  }
 ],
 "metadata": {
  "kernelspec": {
   "display_name": "ml-0451",
   "language": "python",
   "name": "python3"
  },
  "language_info": {
   "codemirror_mode": {
    "name": "ipython",
    "version": 3
   },
   "file_extension": ".py",
   "mimetype": "text/x-python",
   "name": "python",
   "nbconvert_exporter": "python",
   "pygments_lexer": "ipython3",
   "version": "3.9.19"
  },
  "orig_nbformat": 4
 },
 "nbformat": 4,
 "nbformat_minor": 2
}
