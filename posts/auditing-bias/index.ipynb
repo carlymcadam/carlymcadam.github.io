{
 "cells": [
  {
   "cell_type": "raw",
   "metadata": {},
   "source": [
    "---\n",
    "title: Auditing Bias\n",
    "author: Carly McAdam\n",
    "date: '2025-02-13'\n",
    "image: \"census.jpg\"\n",
    "description: \"Auditing for gender bias in income predictions\"\n",
    "format: html\n",
    "---"
   ]
  },
  {
   "cell_type": "markdown",
   "metadata": {},
   "source": [
    "### Abstract"
   ]
  },
  {
   "cell_type": "markdown",
   "metadata": {},
   "source": [
    "In this blog post we'll be looking at data from a bank. We'll start with some data exploration and visualization to get a better understanding of the features in the dataset. Our ultimate goal here is to create a decision-making system that will determine whether a prospective borrower should be offered a loan. We will use logistic regression to assign weights to different features in the dataset, which we will then use to give each prospective borrower a \"score\". This score will be used to determine whether the borrower will prospective receive a loan based on a threshold that will optimize profits for the bank. After creating this decision-making system, we'll test it out on a test dataset and do some exploration into who our system predicted would be able to repay their loans, and who it predicted wouldn't.  \n"
   ]
  },
  {
   "cell_type": "code",
   "execution_count": 1,
   "metadata": {},
   "outputs": [],
   "source": [
    "#| include: false\n",
    "\n",
    "# Imports\n",
    "import warnings\n",
    "warnings.filterwarnings('ignore')\n",
    "import pandas as pd\n",
    "import numpy as np\n",
    "import seaborn as sns\n",
    "from sklearn.linear_model import LogisticRegression\n",
    "from sklearn.model_selection import cross_val_score\n",
    "from sklearn.ensemble import RandomForestClassifier\n",
    "from matplotlib import pyplot as plt\n",
    "from sklearn.preprocessing import LabelEncoder\n",
    "from matplotlib.patches import Patch\n",
    "from sklearn.metrics import confusion_matrix\n",
    "from sklearn.preprocessing import StandardScaler\n",
    "from folktables import ACSDataSource, ACSEmployment, BasicProblem, adult_filter\n"
   ]
  },
  {
   "cell_type": "code",
   "execution_count": 3,
   "metadata": {},
   "outputs": [
    {
     "data": {
      "text/html": [
       "<div>\n",
       "<style scoped>\n",
       "    .dataframe tbody tr th:only-of-type {\n",
       "        vertical-align: middle;\n",
       "    }\n",
       "\n",
       "    .dataframe tbody tr th {\n",
       "        vertical-align: top;\n",
       "    }\n",
       "\n",
       "    .dataframe thead th {\n",
       "        text-align: right;\n",
       "    }\n",
       "</style>\n",
       "<table border=\"1\" class=\"dataframe\">\n",
       "  <thead>\n",
       "    <tr style=\"text-align: right;\">\n",
       "      <th></th>\n",
       "      <th>PINCP</th>\n",
       "      <th>AGEP</th>\n",
       "      <th>SCHL</th>\n",
       "      <th>MAR</th>\n",
       "      <th>RELP</th>\n",
       "      <th>DIS</th>\n",
       "      <th>ESP</th>\n",
       "      <th>CIT</th>\n",
       "      <th>MIG</th>\n",
       "      <th>MIL</th>\n",
       "      <th>ANC</th>\n",
       "      <th>NATIVITY</th>\n",
       "      <th>DEAR</th>\n",
       "      <th>DEYE</th>\n",
       "      <th>DREM</th>\n",
       "      <th>SEX</th>\n",
       "      <th>RAC1P</th>\n",
       "      <th>ESR</th>\n",
       "    </tr>\n",
       "  </thead>\n",
       "  <tbody>\n",
       "    <tr>\n",
       "      <th>0</th>\n",
       "      <td>48500.0</td>\n",
       "      <td>30</td>\n",
       "      <td>14.0</td>\n",
       "      <td>1</td>\n",
       "      <td>16</td>\n",
       "      <td>2</td>\n",
       "      <td>NaN</td>\n",
       "      <td>1</td>\n",
       "      <td>3.0</td>\n",
       "      <td>4.0</td>\n",
       "      <td>1</td>\n",
       "      <td>1</td>\n",
       "      <td>2</td>\n",
       "      <td>2</td>\n",
       "      <td>2.0</td>\n",
       "      <td>1</td>\n",
       "      <td>8</td>\n",
       "      <td>6.0</td>\n",
       "    </tr>\n",
       "    <tr>\n",
       "      <th>1</th>\n",
       "      <td>0.0</td>\n",
       "      <td>18</td>\n",
       "      <td>14.0</td>\n",
       "      <td>5</td>\n",
       "      <td>17</td>\n",
       "      <td>2</td>\n",
       "      <td>NaN</td>\n",
       "      <td>1</td>\n",
       "      <td>1.0</td>\n",
       "      <td>4.0</td>\n",
       "      <td>1</td>\n",
       "      <td>1</td>\n",
       "      <td>2</td>\n",
       "      <td>2</td>\n",
       "      <td>2.0</td>\n",
       "      <td>2</td>\n",
       "      <td>1</td>\n",
       "      <td>6.0</td>\n",
       "    </tr>\n",
       "    <tr>\n",
       "      <th>2</th>\n",
       "      <td>13100.0</td>\n",
       "      <td>69</td>\n",
       "      <td>17.0</td>\n",
       "      <td>1</td>\n",
       "      <td>17</td>\n",
       "      <td>1</td>\n",
       "      <td>NaN</td>\n",
       "      <td>1</td>\n",
       "      <td>1.0</td>\n",
       "      <td>2.0</td>\n",
       "      <td>2</td>\n",
       "      <td>1</td>\n",
       "      <td>2</td>\n",
       "      <td>2</td>\n",
       "      <td>2.0</td>\n",
       "      <td>1</td>\n",
       "      <td>9</td>\n",
       "      <td>6.0</td>\n",
       "    </tr>\n",
       "    <tr>\n",
       "      <th>3</th>\n",
       "      <td>0.0</td>\n",
       "      <td>25</td>\n",
       "      <td>1.0</td>\n",
       "      <td>5</td>\n",
       "      <td>17</td>\n",
       "      <td>1</td>\n",
       "      <td>NaN</td>\n",
       "      <td>1</td>\n",
       "      <td>1.0</td>\n",
       "      <td>4.0</td>\n",
       "      <td>1</td>\n",
       "      <td>1</td>\n",
       "      <td>1</td>\n",
       "      <td>2</td>\n",
       "      <td>1.0</td>\n",
       "      <td>1</td>\n",
       "      <td>1</td>\n",
       "      <td>6.0</td>\n",
       "    </tr>\n",
       "    <tr>\n",
       "      <th>4</th>\n",
       "      <td>0.0</td>\n",
       "      <td>31</td>\n",
       "      <td>18.0</td>\n",
       "      <td>5</td>\n",
       "      <td>16</td>\n",
       "      <td>2</td>\n",
       "      <td>NaN</td>\n",
       "      <td>1</td>\n",
       "      <td>1.0</td>\n",
       "      <td>4.0</td>\n",
       "      <td>1</td>\n",
       "      <td>1</td>\n",
       "      <td>2</td>\n",
       "      <td>2</td>\n",
       "      <td>2.0</td>\n",
       "      <td>2</td>\n",
       "      <td>1</td>\n",
       "      <td>6.0</td>\n",
       "    </tr>\n",
       "  </tbody>\n",
       "</table>\n",
       "</div>"
      ],
      "text/plain": [
       "     PINCP  AGEP  SCHL  MAR  RELP  DIS  ESP  CIT  MIG  MIL  ANC  NATIVITY  \\\n",
       "0  48500.0    30  14.0    1    16    2  NaN    1  3.0  4.0    1         1   \n",
       "1      0.0    18  14.0    5    17    2  NaN    1  1.0  4.0    1         1   \n",
       "2  13100.0    69  17.0    1    17    1  NaN    1  1.0  2.0    2         1   \n",
       "3      0.0    25   1.0    5    17    1  NaN    1  1.0  4.0    1         1   \n",
       "4      0.0    31  18.0    5    16    2  NaN    1  1.0  4.0    1         1   \n",
       "\n",
       "   DEAR  DEYE  DREM  SEX  RAC1P  ESR  \n",
       "0     2     2   2.0    1      8  6.0  \n",
       "1     2     2   2.0    2      1  6.0  \n",
       "2     2     2   2.0    1      9  6.0  \n",
       "3     1     2   1.0    1      1  6.0  \n",
       "4     2     2   2.0    2      1  6.0  "
      ]
     },
     "execution_count": 3,
     "metadata": {},
     "output_type": "execute_result"
    }
   ],
   "source": [
    "# Read in the data\n",
    "\n",
    "STATE = \"CA\"\n",
    "\n",
    "data_source = ACSDataSource(survey_year='2018', \n",
    "                            horizon='1-Year', \n",
    "                            survey='person')\n",
    "\n",
    "acs_data = data_source.get_data(states=[STATE], download=True)\n",
    "acs_data=acs_data[['PINCP', 'AGEP', 'SCHL', 'MAR', 'RELP', 'DIS', 'ESP', 'CIT', 'MIG', 'MIL', 'ANC', 'NATIVITY', 'DEAR', 'DEYE', 'DREM', 'SEX', 'RAC1P', 'ESR']]\n",
    "\n",
    "acs_data.head()"
   ]
  },
  {
   "cell_type": "code",
   "execution_count": 548,
   "metadata": {},
   "outputs": [
    {
     "data": {
      "text/html": [
       "<div>\n",
       "<style scoped>\n",
       "    .dataframe tbody tr th:only-of-type {\n",
       "        vertical-align: middle;\n",
       "    }\n",
       "\n",
       "    .dataframe tbody tr th {\n",
       "        vertical-align: top;\n",
       "    }\n",
       "\n",
       "    .dataframe thead th {\n",
       "        text-align: right;\n",
       "    }\n",
       "</style>\n",
       "<table border=\"1\" class=\"dataframe\">\n",
       "  <thead>\n",
       "    <tr style=\"text-align: right;\">\n",
       "      <th></th>\n",
       "      <th>person_age</th>\n",
       "      <th>person_income</th>\n",
       "      <th>person_home_ownership</th>\n",
       "      <th>person_emp_length</th>\n",
       "      <th>loan_intent</th>\n",
       "      <th>loan_grade</th>\n",
       "      <th>loan_amnt</th>\n",
       "      <th>loan_int_rate</th>\n",
       "      <th>loan_status</th>\n",
       "      <th>loan_percent_income</th>\n",
       "      <th>cb_person_default_on_file</th>\n",
       "      <th>cb_person_cred_hist_length</th>\n",
       "    </tr>\n",
       "  </thead>\n",
       "  <tbody>\n",
       "    <tr>\n",
       "      <th>0</th>\n",
       "      <td>25</td>\n",
       "      <td>43200</td>\n",
       "      <td>RENT</td>\n",
       "      <td>NaN</td>\n",
       "      <td>VENTURE</td>\n",
       "      <td>B</td>\n",
       "      <td>1200</td>\n",
       "      <td>9.91</td>\n",
       "      <td>0</td>\n",
       "      <td>0.03</td>\n",
       "      <td>N</td>\n",
       "      <td>4</td>\n",
       "    </tr>\n",
       "    <tr>\n",
       "      <th>1</th>\n",
       "      <td>27</td>\n",
       "      <td>98000</td>\n",
       "      <td>RENT</td>\n",
       "      <td>3.0</td>\n",
       "      <td>EDUCATION</td>\n",
       "      <td>C</td>\n",
       "      <td>11750</td>\n",
       "      <td>13.47</td>\n",
       "      <td>0</td>\n",
       "      <td>0.12</td>\n",
       "      <td>Y</td>\n",
       "      <td>6</td>\n",
       "    </tr>\n",
       "    <tr>\n",
       "      <th>2</th>\n",
       "      <td>22</td>\n",
       "      <td>36996</td>\n",
       "      <td>RENT</td>\n",
       "      <td>5.0</td>\n",
       "      <td>EDUCATION</td>\n",
       "      <td>A</td>\n",
       "      <td>10000</td>\n",
       "      <td>7.51</td>\n",
       "      <td>0</td>\n",
       "      <td>0.27</td>\n",
       "      <td>N</td>\n",
       "      <td>4</td>\n",
       "    </tr>\n",
       "    <tr>\n",
       "      <th>3</th>\n",
       "      <td>24</td>\n",
       "      <td>26000</td>\n",
       "      <td>RENT</td>\n",
       "      <td>2.0</td>\n",
       "      <td>MEDICAL</td>\n",
       "      <td>C</td>\n",
       "      <td>1325</td>\n",
       "      <td>12.87</td>\n",
       "      <td>1</td>\n",
       "      <td>0.05</td>\n",
       "      <td>N</td>\n",
       "      <td>4</td>\n",
       "    </tr>\n",
       "    <tr>\n",
       "      <th>4</th>\n",
       "      <td>29</td>\n",
       "      <td>53004</td>\n",
       "      <td>MORTGAGE</td>\n",
       "      <td>2.0</td>\n",
       "      <td>HOMEIMPROVEMENT</td>\n",
       "      <td>A</td>\n",
       "      <td>15000</td>\n",
       "      <td>9.63</td>\n",
       "      <td>0</td>\n",
       "      <td>0.28</td>\n",
       "      <td>N</td>\n",
       "      <td>10</td>\n",
       "    </tr>\n",
       "    <tr>\n",
       "      <th>...</th>\n",
       "      <td>...</td>\n",
       "      <td>...</td>\n",
       "      <td>...</td>\n",
       "      <td>...</td>\n",
       "      <td>...</td>\n",
       "      <td>...</td>\n",
       "      <td>...</td>\n",
       "      <td>...</td>\n",
       "      <td>...</td>\n",
       "      <td>...</td>\n",
       "      <td>...</td>\n",
       "      <td>...</td>\n",
       "    </tr>\n",
       "    <tr>\n",
       "      <th>26059</th>\n",
       "      <td>36</td>\n",
       "      <td>150000</td>\n",
       "      <td>MORTGAGE</td>\n",
       "      <td>8.0</td>\n",
       "      <td>EDUCATION</td>\n",
       "      <td>A</td>\n",
       "      <td>3000</td>\n",
       "      <td>7.29</td>\n",
       "      <td>0</td>\n",
       "      <td>0.02</td>\n",
       "      <td>N</td>\n",
       "      <td>17</td>\n",
       "    </tr>\n",
       "    <tr>\n",
       "      <th>26060</th>\n",
       "      <td>23</td>\n",
       "      <td>48000</td>\n",
       "      <td>RENT</td>\n",
       "      <td>1.0</td>\n",
       "      <td>VENTURE</td>\n",
       "      <td>A</td>\n",
       "      <td>4325</td>\n",
       "      <td>5.42</td>\n",
       "      <td>0</td>\n",
       "      <td>0.09</td>\n",
       "      <td>N</td>\n",
       "      <td>4</td>\n",
       "    </tr>\n",
       "    <tr>\n",
       "      <th>26061</th>\n",
       "      <td>22</td>\n",
       "      <td>60000</td>\n",
       "      <td>RENT</td>\n",
       "      <td>0.0</td>\n",
       "      <td>MEDICAL</td>\n",
       "      <td>B</td>\n",
       "      <td>15000</td>\n",
       "      <td>11.71</td>\n",
       "      <td>0</td>\n",
       "      <td>0.25</td>\n",
       "      <td>N</td>\n",
       "      <td>4</td>\n",
       "    </tr>\n",
       "    <tr>\n",
       "      <th>26062</th>\n",
       "      <td>30</td>\n",
       "      <td>144000</td>\n",
       "      <td>MORTGAGE</td>\n",
       "      <td>12.0</td>\n",
       "      <td>PERSONAL</td>\n",
       "      <td>C</td>\n",
       "      <td>35000</td>\n",
       "      <td>12.68</td>\n",
       "      <td>0</td>\n",
       "      <td>0.24</td>\n",
       "      <td>N</td>\n",
       "      <td>8</td>\n",
       "    </tr>\n",
       "    <tr>\n",
       "      <th>26063</th>\n",
       "      <td>25</td>\n",
       "      <td>60000</td>\n",
       "      <td>RENT</td>\n",
       "      <td>5.0</td>\n",
       "      <td>EDUCATION</td>\n",
       "      <td>A</td>\n",
       "      <td>21450</td>\n",
       "      <td>7.29</td>\n",
       "      <td>1</td>\n",
       "      <td>0.36</td>\n",
       "      <td>N</td>\n",
       "      <td>4</td>\n",
       "    </tr>\n",
       "  </tbody>\n",
       "</table>\n",
       "<p>26064 rows × 12 columns</p>\n",
       "</div>"
      ],
      "text/plain": [
       "       person_age  person_income person_home_ownership  person_emp_length  \\\n",
       "0              25          43200                  RENT                NaN   \n",
       "1              27          98000                  RENT                3.0   \n",
       "2              22          36996                  RENT                5.0   \n",
       "3              24          26000                  RENT                2.0   \n",
       "4              29          53004              MORTGAGE                2.0   \n",
       "...           ...            ...                   ...                ...   \n",
       "26059          36         150000              MORTGAGE                8.0   \n",
       "26060          23          48000                  RENT                1.0   \n",
       "26061          22          60000                  RENT                0.0   \n",
       "26062          30         144000              MORTGAGE               12.0   \n",
       "26063          25          60000                  RENT                5.0   \n",
       "\n",
       "           loan_intent loan_grade  loan_amnt  loan_int_rate  loan_status  \\\n",
       "0              VENTURE          B       1200           9.91            0   \n",
       "1            EDUCATION          C      11750          13.47            0   \n",
       "2            EDUCATION          A      10000           7.51            0   \n",
       "3              MEDICAL          C       1325          12.87            1   \n",
       "4      HOMEIMPROVEMENT          A      15000           9.63            0   \n",
       "...                ...        ...        ...            ...          ...   \n",
       "26059        EDUCATION          A       3000           7.29            0   \n",
       "26060          VENTURE          A       4325           5.42            0   \n",
       "26061          MEDICAL          B      15000          11.71            0   \n",
       "26062         PERSONAL          C      35000          12.68            0   \n",
       "26063        EDUCATION          A      21450           7.29            1   \n",
       "\n",
       "       loan_percent_income cb_person_default_on_file  \\\n",
       "0                     0.03                         N   \n",
       "1                     0.12                         Y   \n",
       "2                     0.27                         N   \n",
       "3                     0.05                         N   \n",
       "4                     0.28                         N   \n",
       "...                    ...                       ...   \n",
       "26059                 0.02                         N   \n",
       "26060                 0.09                         N   \n",
       "26061                 0.25                         N   \n",
       "26062                 0.24                         N   \n",
       "26063                 0.36                         N   \n",
       "\n",
       "       cb_person_cred_hist_length  \n",
       "0                               4  \n",
       "1                               6  \n",
       "2                               4  \n",
       "3                               4  \n",
       "4                              10  \n",
       "...                           ...  \n",
       "26059                          17  \n",
       "26060                           4  \n",
       "26061                           4  \n",
       "26062                           8  \n",
       "26063                           4  \n",
       "\n",
       "[26064 rows x 12 columns]"
      ]
     },
     "execution_count": 548,
     "metadata": {},
     "output_type": "execute_result"
    }
   ],
   "source": [
    "# echo : false\n",
    "df_train.head()"
   ]
  },
  {
   "cell_type": "markdown",
   "metadata": {},
   "source": [
    "### Exploring The Data"
   ]
  },
  {
   "cell_type": "markdown",
   "metadata": {},
   "source": [
    "Let's start with some visualizations to explore patterns in this dataset:"
   ]
  },
  {
   "cell_type": "code",
   "execution_count": 549,
   "metadata": {},
   "outputs": [
    {
     "data": {
      "image/png": "[encoded data removed]",
      "text/plain": [
       "<Figure size 1000x600 with 1 Axes>"
      ]
     },
     "metadata": {},
     "output_type": "display_data"
    }
   ],
   "source": [
    "#| code-fold: true\n",
    "#| code-summary: \"Plotting Code\"\n",
    "#| label: loan-intent-employment\n",
    "#| fig-cap: \"Figure 1: Loan intent by length of employment\"\n",
    "\n",
    "# Filter out rows with employment length greater than 25 years\n",
    "df_train = df_train[df_train['person_emp_length'] <= 25]\n",
    "\n",
    "# Bucket the employment length into 5-year chunks\n",
    "bins = range(0, 25 + 5, 5)\n",
    "labels = [\"0 to 5 years\", \"5 to 10 years\", \"10 to 15 years\", \"15 to 20 years\", \"20 to 25 years\"]\n",
    "\n",
    "df_train['emp_length_bucket'] = pd.cut(\n",
    "    df_train['person_emp_length'],\n",
    "    bins=bins,\n",
    "    right=True,\n",
    "    labels=labels,\n",
    "    include_lowest=True\n",
    ")\n",
    "\n",
    "# Create a Seaborn plot using histplot with multiple=\"fill\" for normalized (proportional) stacked bars\n",
    "plt.figure(figsize=(10, 6))\n",
    "sns.histplot(\n",
    "    data=df_train,\n",
    "    x='emp_length_bucket',\n",
    "    hue='loan_intent',\n",
    "    multiple='fill',  # normalizes each bar to sum to 1 (proportions)\n",
    "    shrink=0.8, \n",
    "    palette=\"Set2\"\n",
    ")\n",
    "plt.title(\"Loan Intent Proportions by Employment Length\")\n",
    "plt.xlabel(\"Employment Length\")\n",
    "plt.ylabel(\"Proportion\")\n",
    "plt.xticks(rotation=45)\n",
    "plt.tight_layout()\n",
    "plt.show()"
   ]
  },
  {
   "cell_type": "code",
   "execution_count": 550,
   "metadata": {},
   "outputs": [
    {
     "data": {
      "text/plain": [
       "Text(0, 0.5, 'Loan Interest Rate')"
      ]
     },
     "execution_count": 550,
     "metadata": {},
     "output_type": "execute_result"
    },
    {
     "data": {
      "image/png": "[encoded data removed]",
      "text/plain": [
       "<Figure size 640x480 with 1 Axes>"
      ]
     },
     "metadata": {},
     "output_type": "display_data"
    }
   ],
   "source": [
    "#| code-fold: true\n",
    "#| code-summary: \"Plotting Code\"\n",
    "#| label: interest-rate-home-ownership\n",
    "#| fig-cap: \"Figure 2: Interest rate distribution by home ownership status\"\n",
    "\n",
    "# Plot the distribution of interest rates of each of the home ownership statuses \n",
    "sns.boxplot(data=df_train, x=\"person_home_ownership\", y=\"loan_int_rate\", palette=\"Set2\")\n",
    "plt.xlabel(\"Home Ownership Status\")\n",
    "plt.ylabel(\"Loan Interest Rate\")"
   ]
  },
  {
   "cell_type": "code",
   "execution_count": 551,
   "metadata": {},
   "outputs": [
    {
     "data": {
      "text/html": [
       "<div>\n",
       "<style scoped>\n",
       "    .dataframe tbody tr th:only-of-type {\n",
       "        vertical-align: middle;\n",
       "    }\n",
       "\n",
       "    .dataframe tbody tr th {\n",
       "        vertical-align: top;\n",
       "    }\n",
       "\n",
       "    .dataframe thead th {\n",
       "        text-align: right;\n",
       "    }\n",
       "</style>\n",
       "<table border=\"1\" class=\"dataframe\">\n",
       "  <thead>\n",
       "    <tr style=\"text-align: right;\">\n",
       "      <th></th>\n",
       "      <th>credit_history_length</th>\n",
       "    </tr>\n",
       "    <tr>\n",
       "      <th>loan_grade</th>\n",
       "      <th></th>\n",
       "    </tr>\n",
       "  </thead>\n",
       "  <tbody>\n",
       "    <tr>\n",
       "      <th>A</th>\n",
       "      <td>5.7</td>\n",
       "    </tr>\n",
       "    <tr>\n",
       "      <th>B</th>\n",
       "      <td>5.8</td>\n",
       "    </tr>\n",
       "    <tr>\n",
       "      <th>C</th>\n",
       "      <td>5.9</td>\n",
       "    </tr>\n",
       "    <tr>\n",
       "      <th>D</th>\n",
       "      <td>5.8</td>\n",
       "    </tr>\n",
       "    <tr>\n",
       "      <th>E</th>\n",
       "      <td>5.8</td>\n",
       "    </tr>\n",
       "    <tr>\n",
       "      <th>F</th>\n",
       "      <td>6.1</td>\n",
       "    </tr>\n",
       "    <tr>\n",
       "      <th>G</th>\n",
       "      <td>6.6</td>\n",
       "    </tr>\n",
       "  </tbody>\n",
       "</table>\n",
       "</div>"
      ],
      "text/plain": [
       "            credit_history_length\n",
       "loan_grade                       \n",
       "A                             5.7\n",
       "B                             5.8\n",
       "C                             5.9\n",
       "D                             5.8\n",
       "E                             5.8\n",
       "F                             6.1\n",
       "G                             6.6"
      ]
     },
     "execution_count": 551,
     "metadata": {},
     "output_type": "execute_result"
    }
   ],
   "source": [
    "#| echo: false\n",
    "#| label: credit-history-mean-length\n",
    "#| fig-cap: \"Figure 3: mean credit history length by loan grade\"\n",
    "\n",
    "# Use group by to make a table of the average culmen length by species \n",
    "grouped_data = df_train.groupby(\"loan_grade\").agg({\"cb_person_cred_hist_length\" : \"mean\"})\n",
    "grouped_data[\"cb_person_cred_hist_length\"] = grouped_data[\"cb_person_cred_hist_length\"].round(1)\n",
    "grouped_data = grouped_data.rename(columns={\"loan_grade\":\"Loan Grade\", \"cb_person_cred_hist_length\":\"credit_history_length\"})\n",
    "grouped_data"
   ]
  },
  {
   "cell_type": "markdown",
   "metadata": {},
   "source": [
    "We're looking here to understand some of the patterns in this dataset. \n",
    "\n",
    " First, in Figure 1, we can see that borrowers' intentions for their loans change a bit as the length of their employment increases. Specifically, after 20 years of employment people stop borrowing to pay for education, which makes sense. People also start taking out more loans for venture and medical uses as their employment goes on. It looks like the proportion of loans that are intended to be used for home improvement, personal reasons, and debt consolidation remain fairly constant across length of employment. \n",
    " \n",
    " Moving on to Figure 2, we can see that borrowers with different home ownership statuses (renting, owning, mortgaging or other), have differences in the interest rate they might receive on their loan. Borrowers who rent their home seem more likely to have an interest rate of over 20%, and we can see that borrowers who own their homes rarely see interests rates over 20%. Borrowers who rent and mortgage their homes have more variability in the interest rates they might see, as well. \n",
    "\n",
    "Finally, we can see in Figure 3 that loan grades have differences in average length of credit of the borrower. It seems that borrowers with higher loan grades have longer credit histories, on average. \n",
    "\n",
    "We can see that we should be able to get some information about whether a borrower will pay back a loan from some of these features. "
   ]
  },
  {
   "cell_type": "markdown",
   "metadata": {},
   "source": [
    "#### Prepping the Data"
   ]
  },
  {
   "cell_type": "code",
   "execution_count": 552,
   "metadata": {},
   "outputs": [],
   "source": [
    "# Encode the qualitative variables quantitatively\n",
    "def preprocess(df):\n",
    "    \"\"\"\n",
    "    Function to preprocess the data\n",
    "    \"\"\"\n",
    "    le_home = LabelEncoder()\n",
    "    df[\"person_home_ownership\"] = le_home.fit_transform(df[\"person_home_ownership\"])\n",
    "\n",
    "    le_intent = LabelEncoder()\n",
    "    df[\"loan_intent\"] = le_intent.fit_transform(df[\"loan_intent\"])\n",
    "    intent_mapping = dict(zip(le_intent.transform(le_intent.classes_), le_intent.classes_))\n",
    "\n",
    "    df = pd.get_dummies(df, columns=['cb_person_default_on_file'], prefix='default')\n",
    "    df = df.dropna()\n",
    "\n",
    "    # Change the interest rate column to a percentage\n",
    "    df[\"loan_int_rate\"] = df[\"loan_int_rate\"]/100\n",
    "\n",
    "    # Separate our the target variable\n",
    "    y = df[\"loan_status\"]\n",
    "\n",
    "    return df, y, intent_mapping\n",
    "\n",
    "df_train, y_train, intent_map = preprocess(df_train)"
   ]
  },
  {
   "cell_type": "markdown",
   "metadata": {},
   "source": [
    "We will use this function prepare our datasets for analysis. We're encoding the qualitative columns for home ownership and loan intent as integers,  one-hot encoding the historical default true/false column as 0s and 1s, separating the target variable"
   ]
  },
  {
   "cell_type": "markdown",
   "metadata": {},
   "source": [
    "### Building A Model "
   ]
  },
  {
   "cell_type": "markdown",
   "metadata": {},
   "source": [
    "#### Choosing Features"
   ]
  },
  {
   "cell_type": "code",
   "execution_count": 553,
   "metadata": {},
   "outputs": [
    {
     "data": {
      "text/plain": [
       "9627.86831527438"
      ]
     },
     "execution_count": 553,
     "metadata": {},
     "output_type": "execute_result"
    }
   ],
   "source": [
    "df_train['loan_amnt'].mean()"
   ]
  },
  {
   "cell_type": "markdown",
   "metadata": {},
   "source": [
    "First, let's figure out which features we want to use for the model. We'll generate a few new features that we can use to better understand the relationships between our features:\n",
    "- Credit history ratio: $\\frac{\\text{credit history length}}{\\text{age}}$\n",
    "- Employment stability: $\\frac{\\text{employment length}}{\\text{age}}$\n",
    "- Income stability: $\\text{income}*\\text{employment length}$\n",
    "\n",
    " We'll use cross validation to test a few combinations of features: \n",
    "1. Employment stability, income, and percentage of income that the loan is\n",
    "2. Loan intent, credit history ratio, home ownership status\n",
    "3. income stability, loan interest rate, age"
   ]
  },
  {
   "cell_type": "code",
   "execution_count": 554,
   "metadata": {},
   "outputs": [],
   "source": [
    "# Create new features \n",
    "def new_features(df):\n",
    "    df[\"credit_history_ratio\"] = round(df[\"cb_person_cred_hist_length\"]/df_train[\"person_age\"],2)\n",
    "    df[\"employment_stability\"] = round(df[\"person_emp_length\"]/df_train[\"person_age\"], 2)\n",
    "    df[\"income_stability\"] = round(df[\"person_income\"]*df_train[\"person_emp_length\"],2)\n",
    "    return df\n",
    "df_train = new_features(df_train)"
   ]
  },
  {
   "cell_type": "code",
   "execution_count": 555,
   "metadata": {},
   "outputs": [
    {
     "name": "stdout",
     "output_type": "stream",
     "text": [
      "Set 1: Mean Accuracy = 0.8246\n",
      "Set 2: Mean Accuracy = 0.7850\n",
      "Set 3: Mean Accuracy = 0.8096\n"
     ]
    }
   ],
   "source": [
    "from sklearn.model_selection import cross_val_score\n",
    "from sklearn.linear_model import LogisticRegression\n",
    "from sklearn.preprocessing import StandardScaler\n",
    "\n",
    "# Define three different sets of features\n",
    "feature_sets = {\n",
    "    \"Set 1\": [\"employment_stability\", \"person_income\", \"loan_percent_income\"],\n",
    "    \"Set 2\": [\"loan_intent\", \"credit_history_ratio\", \"person_home_ownership\"],\n",
    "    \"Set 3\": [\"income_stability\", \"loan_int_rate\", \"person_age\"]\n",
    "}\n",
    "\n",
    "model = LogisticRegression()\n",
    "\n",
    "# Evaluate each feature set\n",
    "results = {}\n",
    "for set_name, features in feature_sets.items():\n",
    "    X_train = df_train[features]\n",
    "    X_train = StandardScaler().fit_transform(X_train)  # Standardize features \n",
    "    \n",
    "    scores = cross_val_score(model, X_train, y_train, cv=5, scoring='accuracy')\n",
    "    mean_accuracy = np.mean(scores)\n",
    "    results[set_name] = mean_accuracy\n",
    "    print(f\"{set_name}: Mean Accuracy = {mean_accuracy:.4f}\")"
   ]
  },
  {
   "cell_type": "markdown",
   "metadata": {},
   "source": [
    "#### Estimating weights"
   ]
  },
  {
   "cell_type": "markdown",
   "metadata": {},
   "source": [
    "After fitting an LR to each of the feature sets and using cross validation to test how accurate the models are, we can see that our first set of features, which includes employment stability, income, and percentage of income that the loan is has the highest average accuracy. Now, we'll fit an LR model to these features to obtain our vector of weights that we'll use in our scoring function. "
   ]
  },
  {
   "cell_type": "code",
   "execution_count": 556,
   "metadata": {},
   "outputs": [
    {
     "name": "stdout",
     "output_type": "stream",
     "text": [
      "employment_stability: -0.1480\n",
      "person_income: -0.6256\n",
      "loan_percent_income: 0.7925\n"
     ]
    }
   ],
   "source": [
    "weights_model = LogisticRegression()\n",
    "X_train = df_train[feature_sets[\"Set 1\"]]\n",
    "X_train = StandardScaler().fit_transform(X_train)\n",
    "weights_model.fit(X_train, y_train)\n",
    "\n",
    "for feature, coef in zip(feature_sets[\"Set 1\"], weights_model.coef_[0]):\n",
    "    print(f\"{feature}: {coef:.4f}\")"
   ]
  },
  {
   "cell_type": "markdown",
   "metadata": {},
   "source": [
    "Now we can use these coefficients in our as the values in our weight vector when we create a scoring function, which we'll do next. "
   ]
  },
  {
   "cell_type": "markdown",
   "metadata": {},
   "source": [
    "### Creating the score function"
   ]
  },
  {
   "cell_type": "markdown",
   "metadata": {},
   "source": [
    "Our next step is to give each borrower a score, using the features and weights that we decided on above. We'll add a \"score\" column to the train set that has the result of our score function: \n",
    "\n",
    "$\\text{score} = -0.1486 * x_1 - 0.6252 * x_2 + 0.7925 * x_3$\n",
    "\n",
    "where \n",
    "\n",
    "$x_1$ = employment_stability\n",
    "\n",
    "$x_2$ = person_income\n",
    "\n",
    "$x_3$ = loan_percent_income"
   ]
  },
  {
   "cell_type": "code",
   "execution_count": 557,
   "metadata": {},
   "outputs": [],
   "source": [
    "def score_dataframe(df):\n",
    "    \"\"\"\n",
    "    Compute the score for each borrower using the weights \n",
    "    determined by the logistic regression\n",
    "\n",
    "    inputs:\n",
    "    df: Pandas DataFrame with all features used to generate weights\n",
    "    and loan status, amount, and interest rate for profit calculations\n",
    "    \"\"\"\n",
    "    df_scored = df\n",
    "    df_scored[[\"employment_stability\", \"person_income\", \"loan_percent_income\"]] = StandardScaler().fit_transform(df_scored[[\"employment_stability\", \"person_income\", \"loan_percent_income\"]])\n",
    "    df_scored[\"score\"] =  round(-0.1486 * df_train[\"employment_stability\"] - 0.6252 * df_scored[\"person_income\"] + 0.7925 * df_scored[\"loan_percent_income\"],2)\n",
    "    return df_scored"
   ]
  },
  {
   "cell_type": "code",
   "execution_count": 558,
   "metadata": {},
   "outputs": [],
   "source": [
    "def compute_profit(threshold, df):\n",
    "    \"\"\"\n",
    "    Compute the profit that the bank would have made if they had\n",
    "    used the predictions determined by our score function\n",
    "    and threshold\n",
    "\n",
    "    inputs:\n",
    "    threshold: integer value for score threshold \n",
    "    df: Pandas DataFrame with loan amount, interest rate, actual loan status, and score from \n",
    "    scoring function\n",
    "    \"\"\"\n",
    "    df[\"pred_default\"] = df[\"score\"].apply(lambda x: 1 if x > threshold else 0)\n",
    "    \n",
    "    # Calculate potential profit for repayment or defaulting \n",
    "    df[\"repaid_profit\"] = round(df[\"loan_amnt\"] * (1 + 0.25 * df[\"loan_int_rate\"])**10 - df[\"loan_amnt\"],2)\n",
    "    df[\"defaulted_profit\"] = round(df[\"loan_amnt\"] * (1 + 0.25 * df[\"loan_int_rate\"])**3 - 1.7 * df[\"loan_amnt\"],2)\n",
    "    \n",
    "    # Profit based on actual loan status versus predicted status\n",
    "    df[\"profit\"] = 0  # Default to zero profit\n",
    "    df.loc[(df[\"loan_status\"] == 0) & (df[\"pred_default\"] == 0), \"profit\"] = df[\"repaid_profit\"]  # Successful repayment\n",
    "    df.loc[(df[\"loan_status\"] == 1) & (df[\"pred_default\"] == 0), \"profit\"] = df[\"defaulted_profit\"]  # Incorrectly predicted as good loan, default\n",
    "    df.loc[(df[\"loan_status\"] == 1) & (df[\"pred_default\"] == 1), \"profit\"] = 0  # Correctly predicted as default, no profit\n",
    "    df.loc[(df[\"loan_status\"] == 0) & (df[\"pred_default\"] == 1), \"profit\"] = 0  # Incorrectly predicted as default, no profit\n",
    "\n",
    "    # The borrowers are only the people we predict will not default\n",
    "    # borrowers = df.loc[(df[\"pred_default\"] == 0)]\n",
    "\n",
    "    return sum(df[\"profit\"]) / len(df)\n"
   ]
  },
  {
   "cell_type": "code",
   "execution_count": 569,
   "metadata": {},
   "outputs": [
    {
     "name": "stdout",
     "output_type": "stream",
     "text": [
      "Optimal Threshold for Maximum Profit: 1.1000\n",
      "Maximum Profit: 1325.2300\n"
     ]
    },
    {
     "data": {
      "image/png": "[encoded data removed]",
      "text/plain": [
       "<Figure size 800x500 with 1 Axes>"
      ]
     },
     "metadata": {},
     "output_type": "display_data"
    }
   ],
   "source": [
    "# Find optimal threshold\n",
    "scored_df = score_dataframe(df_train)\n",
    "thresholds = np.arange(0.5,2,0.05)\n",
    "profits = [compute_profit(t, scored_df) for t in thresholds]\n",
    "\n",
    "# Find best threshold\n",
    "optimal_threshold = thresholds[np.argmax(profits)]\n",
    "optimal_profit = max(profits)\n",
    "print(f\"Optimal Threshold for Maximum Profit: {optimal_threshold:.4f}\")\n",
    "print(f\"Maximum Profit: {round(optimal_profit,2):.4f}\")\n",
    "\n",
    "\n",
    "# Plot profit vs. threshold\n",
    "sns.set_style(\"whitegrid\")\n",
    "sns.set_palette(\"Set2\")\n",
    "\n",
    "plt.figure(figsize=(8, 5))\n",
    "plt.scatter(optimal_threshold, optimal_profit, color=sns.color_palette(\"Set2\")[1], label=f'Optimal t={optimal_threshold:.4f}', zorder=2)\n",
    "sns.lineplot(x=thresholds, y=profits, label=\"Profit\", zorder=1)\n",
    "plt.xlabel(\"Threshold\")\n",
    "plt.ylabel(\"Profit per borrower\")\n",
    "plt.title(\"Threshold vs Profit\")\n",
    "plt.legend()\n",
    "plt.show()\n"
   ]
  },
  {
   "cell_type": "markdown",
   "metadata": {},
   "source": [
    "### Evaluating from the bank's perspective"
   ]
  },
  {
   "cell_type": "markdown",
   "metadata": {},
   "source": [
    "Now, we want to look at how this decision making system works on a test dataset. We'll apply all of the functions we used on the training set with the test set, and see what the profit per borrower will look like using the threshold from above, 0.95. "
   ]
  },
  {
   "cell_type": "code",
   "execution_count": 561,
   "metadata": {},
   "outputs": [
    {
     "name": "stdout",
     "output_type": "stream",
     "text": [
      "1140.1\n"
     ]
    }
   ],
   "source": [
    "url = \"https://raw.githubusercontent.com/PhilChodrow/ml-notes/main/data/credit-risk/test.csv\"\n",
    "df_test = pd.read_csv(url)\n",
    "df_test, y_test, intent_map = preprocess(df_test)\n",
    "df_test = new_features(df_test)\n",
    "    \n",
    "scored_test_df = score_dataframe(df_test)\n",
    "print(round(compute_profit(0.95, scored_test_df),2))\n"
   ]
  },
  {
   "cell_type": "markdown",
   "metadata": {},
   "source": [
    "It looks like we ended up with a fairly similar profit per borrower on the test set to what we got from the train set, $X per borrower on the test set and $X on the train set. From the bank's perspective, this seems positive. If they are making, on average, $1146 per borrower, they would make around $6,000,000 off of this dataset of borrowers. "
   ]
  },
  {
   "cell_type": "markdown",
   "metadata": {},
   "source": [
    "### Evaluating from the borrower's perspective"
   ]
  },
  {
   "cell_type": "markdown",
   "metadata": {},
   "source": [
    "Now, let's try to get a better understanding of who in the test dataset we are predicting is going to default on their loans, and who we are predicting is going to repay them. We'll look at the following questions: \n",
    "\n",
    "1. Is it more difficult for people in certain age groups to access credit under your proposed system?\n",
    "2. Is it more difficult for people to get loans in order to pay for medical expenses? How does this compare with the actual rate of default in that 3. group? What about people seeking loans for business ventures or education?\n",
    "3. How does a person’s income level impact the ease with which they can access credit under your decision system?\n"
   ]
  },
  {
   "cell_type": "markdown",
   "metadata": {},
   "source": [
    "#### Question 1"
   ]
  },
  {
   "cell_type": "code",
   "execution_count": null,
   "metadata": {},
   "outputs": [],
   "source": [
    "#| echo: false\n",
    "scored_test_df = scored_test_df.dropna()"
   ]
  },
  {
   "cell_type": "code",
   "execution_count": null,
   "metadata": {},
   "outputs": [],
   "source": [
    "# Split the borrower ages into 4 buckets and see \n",
    "scored_test_df[\"age_group\"] = pd.qcut(scored_test_df[\"person_age\"], q=4, labels=[\"Young\", \"Middle-aged\", \"Older\", \"Senior\"])\n",
    "age_access = scored_test_df.groupby(\"person_age\")[\"pred_default\"].mean()"
   ]
  },
  {
   "cell_type": "code",
   "execution_count": null,
   "metadata": {},
   "outputs": [
    {
     "data": {
      "text/plain": [
       "person_age\n",
       "Young          0.213508\n",
       "Middle-aged    0.153792\n",
       "Older          0.159735\n",
       "Senior         0.163636\n",
       "Name: pred_default, dtype: float64"
      ]
     },
     "execution_count": 543,
     "metadata": {},
     "output_type": "execute_result"
    }
   ],
   "source": [
    "#| echo: false\n",
    "age_access"
   ]
  },
  {
   "cell_type": "markdown",
   "metadata": {},
   "source": [
    "These probabilities are the mean of the prediction column, so they tell us the rate at which a 1 is predicted in each of the age buckets using our decision making system. That is, they tell us the loan rejection rate for each age group. We can see that younger people and seniors are more likely to be rejected for a loan than middle aged people are. "
   ]
  },
  {
   "cell_type": "markdown",
   "metadata": {},
   "source": [
    "#### Question 2"
   ]
  },
  {
   "cell_type": "code",
   "execution_count": 564,
   "metadata": {},
   "outputs": [
    {
     "data": {
      "text/html": [
       "<div>\n",
       "<style scoped>\n",
       "    .dataframe tbody tr th:only-of-type {\n",
       "        vertical-align: middle;\n",
       "    }\n",
       "\n",
       "    .dataframe tbody tr th {\n",
       "        vertical-align: top;\n",
       "    }\n",
       "\n",
       "    .dataframe thead th {\n",
       "        text-align: right;\n",
       "    }\n",
       "</style>\n",
       "<table border=\"1\" class=\"dataframe\">\n",
       "  <thead>\n",
       "    <tr style=\"text-align: right;\">\n",
       "      <th></th>\n",
       "      <th>Loan Intent (Decoded)</th>\n",
       "      <th>Rejection Rate</th>\n",
       "      <th>Actual Default Rate</th>\n",
       "    </tr>\n",
       "  </thead>\n",
       "  <tbody>\n",
       "    <tr>\n",
       "      <th>0</th>\n",
       "      <td>DEBTCONSOLIDATION</td>\n",
       "      <td>0.159292</td>\n",
       "      <td>0.287611</td>\n",
       "    </tr>\n",
       "    <tr>\n",
       "      <th>1</th>\n",
       "      <td>EDUCATION</td>\n",
       "      <td>0.162415</td>\n",
       "      <td>0.167517</td>\n",
       "    </tr>\n",
       "    <tr>\n",
       "      <th>2</th>\n",
       "      <td>HOMEIMPROVEMENT</td>\n",
       "      <td>0.100649</td>\n",
       "      <td>0.250000</td>\n",
       "    </tr>\n",
       "    <tr>\n",
       "      <th>3</th>\n",
       "      <td>MEDICAL</td>\n",
       "      <td>0.169618</td>\n",
       "      <td>0.284250</td>\n",
       "    </tr>\n",
       "    <tr>\n",
       "      <th>4</th>\n",
       "      <td>PERSONAL</td>\n",
       "      <td>0.159319</td>\n",
       "      <td>0.220441</td>\n",
       "    </tr>\n",
       "    <tr>\n",
       "      <th>5</th>\n",
       "      <td>VENTURE</td>\n",
       "      <td>0.145228</td>\n",
       "      <td>0.146266</td>\n",
       "    </tr>\n",
       "  </tbody>\n",
       "</table>\n",
       "</div>"
      ],
      "text/plain": [
       "  Loan Intent (Decoded)  Rejection Rate  Actual Default Rate\n",
       "0     DEBTCONSOLIDATION        0.159292             0.287611\n",
       "1             EDUCATION        0.162415             0.167517\n",
       "2       HOMEIMPROVEMENT        0.100649             0.250000\n",
       "3               MEDICAL        0.169618             0.284250\n",
       "4              PERSONAL        0.159319             0.220441\n",
       "5               VENTURE        0.145228             0.146266"
      ]
     },
     "execution_count": 564,
     "metadata": {},
     "output_type": "execute_result"
    }
   ],
   "source": [
    "\n",
    "# Calculate rejection rates and actual default rates for loan intent\n",
    "loan_intent_access = scored_test_df.groupby(\"loan_intent\")[\"pred_default\"].mean()\n",
    "loan_intent_default_rates = scored_test_df.groupby(\"loan_intent\")[\"loan_status\"].mean()\n",
    "\n",
    "loan_intent_df = pd.DataFrame({\n",
    "    \"Loan Intent (Decoded)\": loan_intent_access.index.map(intent_map),\n",
    "    \"Rejection Rate\": loan_intent_access.values,\n",
    "    \"Actual Default Rate\": loan_intent_default_rates.values\n",
    "})\n",
    "loan_intent_df"
   ]
  },
  {
   "cell_type": "code",
   "execution_count": null,
   "metadata": {},
   "outputs": [],
   "source": [
    "# echo: false\n",
    "loan_intent_df"
   ]
  },
  {
   "cell_type": "markdown",
   "metadata": {},
   "source": [
    "We're interested in the loans that are intended for medical uses. We can see that medical loans have the highest rate of rejection from our system (17% of medical loan requests are rejected), but they also have one of the highest rates of actual default (28%). Venture and business loans have much lower rates of rejection and their actual default rates are much closer to their rejection rates. "
   ]
  },
  {
   "cell_type": "markdown",
   "metadata": {},
   "source": [
    "#### Question 3"
   ]
  },
  {
   "cell_type": "code",
   "execution_count": 566,
   "metadata": {},
   "outputs": [
    {
     "data": {
      "text/plain": [
       "income_group\n",
       "Low             0.342638\n",
       "Lower-middle    0.178375\n",
       "Upper-middle    0.081466\n",
       "High            0.005827\n",
       "Name: pred_default, dtype: float64"
      ]
     },
     "execution_count": 566,
     "metadata": {},
     "output_type": "execute_result"
    }
   ],
   "source": [
    "scored_test_df[\"income_group\"] = pd.qcut(scored_test_df[\"person_income\"], q=4, labels=[\"Low\", \"Lower-middle\", \"Upper-middle\", \"High\"])\n",
    "income_access = scored_test_df.groupby(\"income_group\")[\"pred_default\"].mean()"
   ]
  },
  {
   "cell_type": "code",
   "execution_count": null,
   "metadata": {},
   "outputs": [],
   "source": [
    "# | echo :false\n",
    "income_access"
   ]
  },
  {
   "cell_type": "markdown",
   "metadata": {},
   "source": [
    "Here, we are again looking at the loan rejection rates, this time by income group. It is clear that people with lower incomes are much more likely to be rejected using our decision making system (34% of the time), as opposed to high income people who are only rejected 0.5% of the time with our system. "
   ]
  },
  {
   "cell_type": "markdown",
   "metadata": {},
   "source": [
    "###  Write and Reflect "
   ]
  }
 ],
 "metadata": {
  "kernelspec": {
   "display_name": "ml-0451",
   "language": "python",
   "name": "python3"
  },
  "language_info": {
   "codemirror_mode": {
    "name": "ipython",
    "version": 3
   },
   "file_extension": ".py",
   "mimetype": "text/x-python",
   "name": "python",
   "nbconvert_exporter": "python",
   "pygments_lexer": "ipython3",
   "version": "3.9.19"
  },
  "orig_nbformat": 4
 },
 "nbformat": 4,
 "nbformat_minor": 2
}
